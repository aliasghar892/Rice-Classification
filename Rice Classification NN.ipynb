{
 "cells": [
  {
   "attachments": {},
   "cell_type": "markdown",
   "metadata": {},
   "source": [
    "# Rice Classification with NN (using CUDA)\n"
   ]
  },
  {
   "attachments": {},
   "cell_type": "markdown",
   "metadata": {},
   "source": [
    "dataset contains 75000 images from 5 diffrent type of rices :\n",
    "\n",
    "1. Arborio\n",
    "2. Basmati\n",
    "3. Ipsala\n",
    "4. Jasmine\n",
    "5. Karacadag\n",
    "\n",
    "15000 images for each class of rice\n",
    "\n",
    "dataset : https://www.kaggle.com/datasets/muratkokludataset/rice-image-dataset"
   ]
  },
  {
   "attachments": {},
   "cell_type": "markdown",
   "metadata": {},
   "source": [
    "### choosing device"
   ]
  },
  {
   "cell_type": "code",
   "execution_count": 14,
   "metadata": {},
   "outputs": [
    {
     "name": "stdout",
     "output_type": "stream",
     "text": [
      "Using cuda device\n"
     ]
    }
   ],
   "source": [
    "import torch\n",
    "\n",
    "device = (\n",
    "    \"cuda\"\n",
    "    if torch.cuda.is_available()\n",
    "    else \"cpu\"\n",
    ")\n",
    "\n",
    "print(f\"Using {device} device\")"
   ]
  },
  {
   "attachments": {},
   "cell_type": "markdown",
   "metadata": {},
   "source": [
    "### creating dataset class\n"
   ]
  },
  {
   "cell_type": "code",
   "execution_count": 15,
   "metadata": {},
   "outputs": [],
   "source": [
    "from torch.utils.data import Dataset\n",
    "import os\n",
    "from torchvision.io import read_image\n",
    "from math import floor\n",
    "from torchvision.transforms import Grayscale,Resize\n",
    "\n",
    "\n",
    "labelsDict = {\n",
    "    0: \"Arborio\",\n",
    "    1: \"Basmati\",\n",
    "    2: \"Ipsala\",\n",
    "    3: \"Jasmine\",\n",
    "    4: \"Karacadag\"\n",
    "}\n",
    "\n",
    "class Custom_Dataset(Dataset):\n",
    "    def __init__(self,labels ,img_dir,transform=None):\n",
    "        self.labels = labels\n",
    "        self.img_dir = img_dir\n",
    "        self.transform = transform\n",
    "\n",
    "    def __len__(self):\n",
    "        return len(self.labels)\n",
    "    \n",
    "    def __getitem__(self, idx):\n",
    "        # label = labelsDict[floor(idx/15000)]\n",
    "        label = self.labels[idx]\n",
    "        label = label.to(device)\n",
    "        img_name = labelsDict[int(label)]+\" (\" + str(idx -(15000*floor(idx/15000))+1) +\").jpg\"\n",
    "        img_path = os.path.join(os.getcwd(),self.img_dir, img_name)\n",
    "        image = read_image(img_path)\n",
    "        # label = int(label.item())\n",
    "        image = Grayscale()(image) #remove 3 image channels\n",
    "        image = Resize(size=(50,50),antialias=True)(image)\n",
    "        image = image.squeeze()\n",
    "        image = image.float()\n",
    "        image = image.to(device)\n",
    "        if(self.transform):\n",
    "            image = self.transform(image)\n",
    "        return image, label\n",
    "    \n"
   ]
  },
  {
   "attachments": {},
   "cell_type": "markdown",
   "metadata": {},
   "source": [
    "### creating our dataset"
   ]
  },
  {
   "cell_type": "code",
   "execution_count": 16,
   "metadata": {},
   "outputs": [],
   "source": [
    "labels = torch.zeros(75000)\n",
    "labels[15000:30000] = 1\n",
    "labels[30000:45000] = 2\n",
    "labels[45000:60000] = 3\n",
    "labels[60000:75000] = 4\n",
    "\n",
    "dataset = Custom_Dataset(labels,\"Rice_Image_Dataset\")"
   ]
  },
  {
   "attachments": {},
   "cell_type": "markdown",
   "metadata": {},
   "source": [
    "### testing dataset"
   ]
  },
  {
   "cell_type": "code",
   "execution_count": 17,
   "metadata": {},
   "outputs": [
    {
     "data": {
      "image/png": "[encoded data removed]",
      "text/plain": [
       "<Figure size 640x480 with 5 Axes>"
      ]
     },
     "metadata": {},
     "output_type": "display_data"
    }
   ],
   "source": [
    "import matplotlib.pyplot as plt\n",
    "\n",
    "testData = [0,15000,30000,45000,60000]\n",
    "fig,ax = plt.subplots(1,5)\n",
    "for i in range(len(testData)):\n",
    "    img, label = dataset[testData[i]]\n",
    "    ax[i].imshow(img.cpu(),cmap=\"gray\")\n",
    "    ax[i].set_title(labelsDict[label.item()])\n",
    "    ax[i].axis(\"off\")\n",
    "plt.show()\n"
   ]
  },
  {
   "attachments": {},
   "cell_type": "markdown",
   "metadata": {},
   "source": [
    "### shuffeling and creating train / test dataset"
   ]
  },
  {
   "cell_type": "code",
   "execution_count": 18,
   "metadata": {},
   "outputs": [],
   "source": [
    "from torch.utils.data import Subset\n",
    "import numpy as np\n",
    "\n",
    "N = len(dataset)\n",
    "\n",
    "indices = np.arange(N)\n",
    "indices = np.random.permutation(indices)\n",
    "\n",
    "slice = int(0.8*N)\n",
    "\n",
    "train_indices = indices[:slice]\n",
    "test_indices = indices[slice:]\n",
    "\n",
    "train_dataset = Subset(dataset,train_indices)\n",
    "test_dataset = Subset(dataset,test_indices)\n"
   ]
  },
  {
   "attachments": {},
   "cell_type": "markdown",
   "metadata": {},
   "source": [
    "### Loading Data"
   ]
  },
  {
   "cell_type": "code",
   "execution_count": 19,
   "metadata": {},
   "outputs": [],
   "source": [
    "from torch.utils.data import DataLoader\n",
    "\n",
    "train_dataloader = DataLoader(train_dataset,batch_size=64,shuffle=True)\n",
    "test_dataloader = DataLoader(test_dataset,batch_size=64,shuffle=True)\n"
   ]
  },
  {
   "attachments": {},
   "cell_type": "markdown",
   "metadata": {},
   "source": [
    "### test dataloader"
   ]
  },
  {
   "cell_type": "code",
   "execution_count": 20,
   "metadata": {},
   "outputs": [
    {
     "name": "stdout",
     "output_type": "stream",
     "text": [
      "shape : torch.Size([50, 50])\n"
     ]
    },
    {
     "data": {
      "image/png": "[encoded data removed]",
      "text/plain": [
       "<Figure size 640x480 with 1 Axes>"
      ]
     },
     "metadata": {},
     "output_type": "display_data"
    }
   ],
   "source": [
    "testData = next(iter(train_dataloader))\n",
    "print(\"shape :\",testData[0][0].shape)\n",
    "plt.imshow(testData[0][0].cpu(),cmap=\"gray\")\n",
    "plt.axis('off')\n",
    "plt.title(labelsDict[testData[1][0].item()])\n",
    "plt.show()"
   ]
  },
  {
   "attachments": {},
   "cell_type": "markdown",
   "metadata": {},
   "source": [
    "### creating model"
   ]
  },
  {
   "cell_type": "code",
   "execution_count": 21,
   "metadata": {},
   "outputs": [],
   "source": [
    "from torch import nn\n",
    "\n",
    "class NeuralNetwork(nn.Module):\n",
    "    def __init__(self):\n",
    "        super().__init__()\n",
    "        self.flatten = nn.Flatten()\n",
    "        self.seq = nn.Sequential(\n",
    "            nn.Linear(50*50,512),\n",
    "            nn.ReLU(),\n",
    "            nn.Linear(512,512),\n",
    "            nn.ReLU(),\n",
    "            nn.Linear(512,5)\n",
    "        ) \n",
    "        \n",
    "    def forward(self,X):\n",
    "        X = self.flatten(X)\n",
    "        logits = self.seq(X)\n",
    "        return logits"
   ]
  },
  {
   "attachments": {},
   "cell_type": "markdown",
   "metadata": {},
   "source": [
    "### learning"
   ]
  },
  {
   "cell_type": "code",
   "execution_count": 23,
   "metadata": {},
   "outputs": [
    {
     "name": "stdout",
     "output_type": "stream",
     "text": [
      "EPOTCH 1 -----------------------------\n",
      "loss : 7.709244728088379 / [64/60000]\n",
      "loss : 0.162395179271698 / [6464/60000]\n",
      "loss : 0.14177313446998596 / [12864/60000]\n",
      "loss : 0.15966291725635529 / [19264/60000]\n",
      "loss : 0.05044935643672943 / [25664/60000]\n",
      "loss : 0.09630768746137619 / [32064/60000]\n",
      "loss : 0.1943528950214386 / [38464/60000]\n",
      "loss : 0.16869765520095825 / [44864/60000]\n",
      "loss : 0.22276069223880768 / [51264/60000]\n",
      "loss : 0.04776471480727196 / [57664/60000]\n",
      "Test ERR >> Acc : 0.9447333333333333 / Avg Loss : 0.15988750941258795\n",
      "EPOTCH 2 -----------------------------\n",
      "loss : 0.08699164539575577 / [64/60000]\n",
      "loss : 0.04353124648332596 / [6464/60000]\n",
      "loss : 0.11728403717279434 / [12864/60000]\n",
      "loss : 0.04728078842163086 / [19264/60000]\n",
      "loss : 0.2449236661195755 / [25664/60000]\n",
      "loss : 0.07263775169849396 / [32064/60000]\n",
      "loss : 0.13888320326805115 / [38464/60000]\n",
      "loss : 0.14290690422058105 / [44864/60000]\n",
      "loss : 0.10503929108381271 / [51264/60000]\n",
      "loss : 0.03943176567554474 / [57664/60000]\n",
      "Test ERR >> Acc : 0.9706666666666667 / Avg Loss : 0.08897658751762294\n",
      "EPOTCH 3 -----------------------------\n",
      "loss : 0.05381388962268829 / [64/60000]\n",
      "loss : 0.02645026706159115 / [6464/60000]\n",
      "loss : 0.09248798340559006 / [12864/60000]\n",
      "loss : 0.03219638764858246 / [19264/60000]\n",
      "loss : 0.10545872151851654 / [25664/60000]\n",
      "loss : 0.05295349285006523 / [32064/60000]\n",
      "loss : 0.03304013982415199 / [38464/60000]\n",
      "loss : 0.0631793960928917 / [44864/60000]\n",
      "loss : 0.19349448382854462 / [51264/60000]\n",
      "loss : 0.15725436806678772 / [57664/60000]\n",
      "Test ERR >> Acc : 0.966 / Avg Loss : 0.09954746627902732\n",
      "EPOTCH 4 -----------------------------\n",
      "loss : 0.08781392872333527 / [64/60000]\n",
      "loss : 0.03931743651628494 / [6464/60000]\n",
      "loss : 0.012585318647325039 / [12864/60000]\n",
      "loss : 0.08874981850385666 / [19264/60000]\n",
      "loss : 0.02059124782681465 / [25664/60000]\n",
      "loss : 0.10167276859283447 / [32064/60000]\n",
      "loss : 0.3555576801300049 / [38464/60000]\n",
      "loss : 0.24175672233104706 / [44864/60000]\n",
      "loss : 0.11380921304225922 / [51264/60000]\n",
      "loss : 0.0527430921792984 / [57664/60000]\n",
      "Test ERR >> Acc : 0.9696666666666667 / Avg Loss : 0.08706453567608557\n",
      "EPOTCH 5 -----------------------------\n",
      "loss : 0.11822520941495895 / [64/60000]\n",
      "loss : 0.06798263639211655 / [6464/60000]\n",
      "loss : 0.09089215844869614 / [12864/60000]\n",
      "loss : 0.13983747363090515 / [19264/60000]\n",
      "loss : 0.10264790058135986 / [25664/60000]\n",
      "loss : 0.079697385430336 / [32064/60000]\n",
      "loss : 0.08394838869571686 / [38464/60000]\n",
      "loss : 0.04358390346169472 / [44864/60000]\n",
      "loss : 0.06523112207651138 / [51264/60000]\n",
      "loss : 0.054563090205192566 / [57664/60000]\n",
      "Test ERR >> Acc : 0.9759333333333333 / Avg Loss : 0.07118671918486028\n",
      "Done, Accuracy is : 0.9759333333333333\n"
     ]
    }
   ],
   "source": [
    "model = NeuralNetwork().to(device)\n",
    "\n",
    "learning_rate = 1e-3\n",
    "epoches = 5\n",
    "optimizer = torch.optim.SGD(model.parameters(),lr=learning_rate)\n",
    "loss_fn = nn.CrossEntropyLoss()\n",
    "\n",
    "def train_loop(train_dataloader,model,loss_fn,optim):\n",
    "    model.train()\n",
    "    for batch, (X,y) in enumerate(train_dataloader):\n",
    "        y=y.to(torch.int64)\n",
    "        pred = model(X)\n",
    "        loss = loss_fn(pred,y)\n",
    "\n",
    "        loss.backward()\n",
    "        optim.step()\n",
    "        optim.zero_grad()\n",
    "\n",
    "        if (batch % 100 == 0):\n",
    "            loss = loss.item()\n",
    "            current = (batch+1)*len(X)\n",
    "            total_size = len(train_dataloader.dataset)\n",
    "            print(\"loss : {} / [{}/{}]\".format(loss,current,total_size))\n",
    "\n",
    "def test_loop(test_dataloader,model,loss_fn):\n",
    "    model.eval()\n",
    "    test_loss,correct = 0,0\n",
    "\n",
    "    with torch.no_grad():\n",
    "        for X,y in test_dataloader:\n",
    "            y=y.to(torch.int64)\n",
    "            pred = model(X)\n",
    "            test_loss += loss_fn(pred,y).item()\n",
    "            correct += (pred.argmax(1) == y).type(torch.float).sum().item()\n",
    "    \n",
    "    size = len(test_dataloader.dataset)\n",
    "    num_batches = len(test_dataloader)\n",
    "    correct /= size # acuuracy\n",
    "    test_loss /= num_batches # avg loss in each batch\n",
    "\n",
    "    print(\"Test ERR >> Acc : {} / Avg Loss : {}\".format(correct,test_loss))\n",
    "    return correct\n",
    "\n",
    "finalAcc = -100\n",
    "\n",
    "for i in range(epoches):\n",
    "    print(\"EPOTCH {} -----------------------------\".format(i+1))\n",
    "    train_loop(train_dataloader,model,loss_fn,optimizer)\n",
    "    acc = test_loop(test_dataloader,model,loss_fn)\n",
    "    finalAcc = acc\n",
    "\n",
    "print(\"Done, Accuracy is : {}\".format(finalAcc))\n"
   ]
  },
  {
   "attachments": {},
   "cell_type": "markdown",
   "metadata": {},
   "source": [
    "after around **10m**(using cuda) resulted with accuracy **97%**<br>\n",
    "afer epoch 2 the accuracy change is not so huge "
   ]
  }
 ],
 "metadata": {
  "kernelspec": {
   "display_name": "workshop",
   "language": "python",
   "name": "python3"
  },
  "language_info": {
   "codemirror_mode": {
    "name": "ipython",
    "version": 3
   },
   "file_extension": ".py",
   "mimetype": "text/x-python",
   "name": "python",
   "nbconvert_exporter": "python",
   "pygments_lexer": "ipython3",
   "version": "3.9.16"
  },
  "orig_nbformat": 4
 },
 "nbformat": 4,
 "nbformat_minor": 2
}
