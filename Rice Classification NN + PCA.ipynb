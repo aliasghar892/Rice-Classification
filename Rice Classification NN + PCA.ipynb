{
 "cells": [
  {
   "attachments": {},
   "cell_type": "markdown",
   "metadata": {},
   "source": [
    "# Rice Classification with NN and PCA (using CUDA)\n"
   ]
  },
  {
   "attachments": {},
   "cell_type": "markdown",
   "metadata": {},
   "source": [
    "dataset contains 75000 images from 5 diffrent type of rices :\n",
    "\n",
    "1. Arborio\n",
    "2. Basmati\n",
    "3. Ipsala\n",
    "4. Jasmine\n",
    "5. Karacadag\n",
    "\n",
    "15000 images for each class of rice\n",
    "\n",
    "dataset : https://www.kaggle.com/datasets/muratkokludataset/rice-image-dataset\n",
    "\n",
    "using cuda in this case will use 2x memory because tensors in cuda should be copied to cpu in order to change to numpy"
   ]
  },
  {
   "attachments": {},
   "cell_type": "markdown",
   "metadata": {},
   "source": [
    "### choosing device"
   ]
  },
  {
   "cell_type": "code",
   "execution_count": 1,
   "metadata": {},
   "outputs": [
    {
     "name": "stdout",
     "output_type": "stream",
     "text": [
      "Using cuda device\n"
     ]
    }
   ],
   "source": [
    "import torch\n",
    "\n",
    "device = (\n",
    "    \"cuda\"\n",
    "    if torch.cuda.is_available()\n",
    "    else \"cpu\"\n",
    ")\n",
    "\n",
    "print(f\"Using {device} device\")"
   ]
  },
  {
   "attachments": {},
   "cell_type": "markdown",
   "metadata": {},
   "source": [
    "### creating dataset class\n"
   ]
  },
  {
   "cell_type": "code",
   "execution_count": 2,
   "metadata": {},
   "outputs": [],
   "source": [
    "from torch.utils.data import Dataset\n",
    "import os\n",
    "from torchvision.io import read_image\n",
    "from math import floor\n",
    "from torchvision.transforms import Grayscale,Resize\n",
    "\n",
    "\n",
    "labelsDict = {\n",
    "    0: \"Arborio\",\n",
    "    1: \"Basmati\",\n",
    "    2: \"Ipsala\",\n",
    "    3: \"Jasmine\",\n",
    "    4: \"Karacadag\"\n",
    "}\n",
    "\n",
    "class Custom_Dataset(Dataset):\n",
    "    def __init__(self,labels ,img_dir,transform=None):\n",
    "        self.labels = labels\n",
    "        self.img_dir = img_dir\n",
    "        self.transform = transform\n",
    "\n",
    "    def __len__(self):\n",
    "        return len(self.labels)\n",
    "    \n",
    "    def __getitem__(self, idx):\n",
    "        # label = labelsDict[floor(idx/15000)]\n",
    "        label = self.labels[idx]\n",
    "        label = label.to(device)\n",
    "        img_name = labelsDict[int(label)]+\" (\" + str(idx -(15000*floor(idx/15000))+1) +\").jpg\"\n",
    "        img_path = os.path.join(os.getcwd(),self.img_dir, img_name)\n",
    "        image = read_image(img_path)\n",
    "        # label = int(label.item())\n",
    "        image = Grayscale()(image) #remove 3 image channels\n",
    "        image = Resize(size=(50,50),antialias=True)(image)\n",
    "        image = image.squeeze()\n",
    "        image = image.float()\n",
    "        image = image.to(device)\n",
    "        if(self.transform):\n",
    "            image = self.transform(image)\n",
    "        return image, label\n",
    "    \n"
   ]
  },
  {
   "attachments": {},
   "cell_type": "markdown",
   "metadata": {},
   "source": [
    "### creating our dataset"
   ]
  },
  {
   "cell_type": "code",
   "execution_count": 3,
   "metadata": {},
   "outputs": [],
   "source": [
    "labels = torch.zeros(75000)\n",
    "labels[15000:30000] = 1\n",
    "labels[30000:45000] = 2\n",
    "labels[45000:60000] = 3\n",
    "labels[60000:75000] = 4\n",
    "\n",
    "dataset = Custom_Dataset(labels,\"Rice_Image_Dataset\")"
   ]
  },
  {
   "attachments": {},
   "cell_type": "markdown",
   "metadata": {},
   "source": [
    "### shuffeling and creating train / test dataset"
   ]
  },
  {
   "cell_type": "code",
   "execution_count": 4,
   "metadata": {},
   "outputs": [],
   "source": [
    "import numpy as np\n",
    "\n",
    "N = len(dataset)\n",
    "\n",
    "indices = np.arange(N)\n",
    "indices = np.random.permutation(indices)\n",
    "\n",
    "slice = int(0.8*N)\n",
    "\n",
    "train_indices = indices[:slice]\n",
    "test_indices = indices[slice:]\n"
   ]
  },
  {
   "attachments": {},
   "cell_type": "markdown",
   "metadata": {},
   "source": [
    "### Loading Data (for PCA)"
   ]
  },
  {
   "cell_type": "code",
   "execution_count": 5,
   "metadata": {},
   "outputs": [],
   "source": [
    "from torch.utils.data import Subset\n",
    "\n",
    "train_dataset = Subset(dataset,train_indices)\n",
    "test_dataset = Subset(dataset,test_indices)\n"
   ]
  },
  {
   "attachments": {},
   "cell_type": "markdown",
   "metadata": {},
   "source": [
    "### train PCA"
   ]
  },
  {
   "attachments": {},
   "cell_type": "markdown",
   "metadata": {},
   "source": [
    "moving test dataset to numpy for using sklearn pca"
   ]
  },
  {
   "cell_type": "code",
   "execution_count": 6,
   "metadata": {},
   "outputs": [],
   "source": [
    "X_train = np.array([train_dataset[i][0].cpu().numpy().flatten() for i in range(len(train_dataset))])"
   ]
  },
  {
   "attachments": {},
   "cell_type": "markdown",
   "metadata": {},
   "source": [
    "plotting first data"
   ]
  },
  {
   "cell_type": "code",
   "execution_count": 7,
   "metadata": {},
   "outputs": [
    {
     "name": "stdout",
     "output_type": "stream",
     "text": [
      "(60000, 2500)\n"
     ]
    },
    {
     "data": {
      "image/png": "[encoded data removed]",
      "text/plain": [
       "<Figure size 200x200 with 1 Axes>"
      ]
     },
     "metadata": {},
     "output_type": "display_data"
    }
   ],
   "source": [
    "import matplotlib.pyplot as plt\n",
    "\n",
    "print(X_train.shape)\n",
    "\n",
    "plt.figure(figsize=(2,2))\n",
    "plt.imshow(X_train[0].reshape(50,50),cmap=\"gray\")\n",
    "plt.axis(\"off\")\n",
    "plt.show()\n"
   ]
  },
  {
   "attachments": {},
   "cell_type": "markdown",
   "metadata": {},
   "source": [
    "fitting pca"
   ]
  },
  {
   "cell_type": "code",
   "execution_count": 8,
   "metadata": {},
   "outputs": [],
   "source": [
    "from sklearn.preprocessing import StandardScaler\n",
    "from sklearn.decomposition import PCA\n",
    "X_train_scaled = StandardScaler().fit_transform(X_train)\n",
    "pca = PCA(n_components=250,whiten=True).fit(X_train_scaled)\n"
   ]
  },
  {
   "attachments": {},
   "cell_type": "markdown",
   "metadata": {},
   "source": [
    "testing pca on first data"
   ]
  },
  {
   "cell_type": "code",
   "execution_count": 9,
   "metadata": {},
   "outputs": [
    {
     "data": {
      "image/png": "[encoded data removed]",
      "text/plain": [
       "<Figure size 200x200 with 1 Axes>"
      ]
     },
     "metadata": {},
     "output_type": "display_data"
    }
   ],
   "source": [
    "test = pca.transform([X_train[0]])\n",
    "test = pca.inverse_transform(test)[0].reshape(50,50)\n",
    "plt.figure(figsize=(2,2))\n",
    "plt.imshow(test,cmap=\"gray\")\n",
    "plt.axis(\"off\")\n",
    "plt.show()"
   ]
  },
  {
   "attachments": {},
   "cell_type": "markdown",
   "metadata": {},
   "source": [
    "first five pca components"
   ]
  },
  {
   "cell_type": "code",
   "execution_count": 10,
   "metadata": {},
   "outputs": [
    {
     "data": {
      "image/png": "[encoded data removed]",
      "text/plain": [
       "<Figure size 640x480 with 5 Axes>"
      ]
     },
     "metadata": {},
     "output_type": "display_data"
    }
   ],
   "source": [
    "fig,ax = plt.subplots(nrows=1,ncols=5)\n",
    "for i in range(5):\n",
    "    ax[i].imshow(pca.components_[i].reshape(50,50))\n",
    "    ax[i].axis(\"off\")\n"
   ]
  },
  {
   "attachments": {},
   "cell_type": "markdown",
   "metadata": {},
   "source": [
    "creating a custom transformation func to use with dataset"
   ]
  },
  {
   "cell_type": "code",
   "execution_count": 16,
   "metadata": {},
   "outputs": [],
   "source": [
    "def customTransform(x):\n",
    "    # x is a 50x50 tensor\n",
    "    x_pca = pca.transform([x.cpu().numpy().flatten()])[0]\n",
    "    return torch.from_numpy(x_pca).float().to(device)"
   ]
  },
  {
   "attachments": {},
   "cell_type": "markdown",
   "metadata": {},
   "source": [
    "### recreating dataset"
   ]
  },
  {
   "cell_type": "code",
   "execution_count": 17,
   "metadata": {},
   "outputs": [],
   "source": [
    "dataset = Custom_Dataset(labels,\"Rice_Image_Dataset\",transform=customTransform)\n",
    "\n",
    "train_dataset = Subset(dataset,train_indices)\n",
    "test_dataset = Subset(dataset,test_indices)"
   ]
  },
  {
   "cell_type": "code",
   "execution_count": 18,
   "metadata": {},
   "outputs": [],
   "source": [
    "from torch.utils.data import DataLoader\n",
    "\n",
    "train_dataloader = DataLoader(train_dataset,batch_size=64,shuffle=True)\n",
    "test_dataloader = DataLoader(test_dataset,batch_size=64,shuffle=True)"
   ]
  },
  {
   "attachments": {},
   "cell_type": "markdown",
   "metadata": {},
   "source": [
    "### creating model"
   ]
  },
  {
   "cell_type": "code",
   "execution_count": 21,
   "metadata": {},
   "outputs": [],
   "source": [
    "from torch import nn\n",
    "\n",
    "class NeuralNetwork(nn.Module):\n",
    "    def __init__(self):\n",
    "        super().__init__()\n",
    "        self.seq = nn.Sequential(\n",
    "            nn.Linear(250,512),\n",
    "            nn.ReLU(),\n",
    "            nn.Dropout(0.2),\n",
    "            nn.Linear(512,512),\n",
    "            nn.ReLU(),\n",
    "            nn.Linear(512,5)\n",
    "        ) \n",
    "        \n",
    "    def forward(self,X):\n",
    "        logits = self.seq(X)\n",
    "        return logits"
   ]
  },
  {
   "attachments": {},
   "cell_type": "markdown",
   "metadata": {},
   "source": [
    "### learning"
   ]
  },
  {
   "cell_type": "code",
   "execution_count": 24,
   "metadata": {},
   "outputs": [
    {
     "name": "stdout",
     "output_type": "stream",
     "text": [
      "EPOCH 1 -----------------------------\n",
      "loss : 4.791212558746338 / [64/60000]\n",
      "loss : 0.273099809885025 / [6464/60000]\n",
      "loss : 0.27644699811935425 / [12864/60000]\n",
      "loss : 0.08624141663312912 / [19264/60000]\n",
      "loss : 0.2240728735923767 / [25664/60000]\n",
      "loss : 0.08925768733024597 / [32064/60000]\n",
      "loss : 0.07239732891321182 / [38464/60000]\n",
      "loss : 0.18670770525932312 / [44864/60000]\n",
      "loss : 0.13838478922843933 / [51264/60000]\n",
      "loss : 0.15778855979442596 / [57664/60000]\n",
      "Test ERR >> Acc : 0.973 / Avg Loss : 0.08484698775759403\n",
      "EPOCH 2 -----------------------------\n",
      "loss : 0.07177840173244476 / [64/60000]\n",
      "loss : 0.025561591610312462 / [6464/60000]\n",
      "loss : 0.049971822649240494 / [12864/60000]\n",
      "loss : 0.08598895370960236 / [19264/60000]\n",
      "loss : 0.04940491542220116 / [25664/60000]\n",
      "loss : 0.08135995268821716 / [32064/60000]\n",
      "loss : 0.04285848140716553 / [38464/60000]\n",
      "loss : 0.08050642162561417 / [44864/60000]\n",
      "loss : 0.2819751799106598 / [51264/60000]\n",
      "loss : 0.0339844711124897 / [57664/60000]\n",
      "Test ERR >> Acc : 0.9733333333333334 / Avg Loss : 0.08222158704983427\n",
      "EPOCH 3 -----------------------------\n",
      "loss : 0.09167975932359695 / [64/60000]\n",
      "loss : 0.1296423077583313 / [6464/60000]\n",
      "loss : 0.14318528771400452 / [12864/60000]\n",
      "loss : 0.014758572913706303 / [19264/60000]\n",
      "loss : 0.057414133101701736 / [25664/60000]\n",
      "loss : 0.016484703868627548 / [32064/60000]\n",
      "loss : 0.19726181030273438 / [38464/60000]\n",
      "loss : 0.06088273972272873 / [44864/60000]\n",
      "loss : 0.04769971966743469 / [51264/60000]\n",
      "loss : 0.08481734246015549 / [57664/60000]\n",
      "Test ERR >> Acc : 0.9730666666666666 / Avg Loss : 0.08561372104834052\n",
      "EPOCH 4 -----------------------------\n",
      "loss : 0.05636892840266228 / [64/60000]\n",
      "loss : 0.02008170820772648 / [6464/60000]\n",
      "loss : 0.009938156232237816 / [12864/60000]\n",
      "loss : 0.057113420218229294 / [19264/60000]\n",
      "loss : 0.04770863056182861 / [25664/60000]\n",
      "loss : 0.03681863471865654 / [32064/60000]\n",
      "loss : 0.040101759135723114 / [38464/60000]\n",
      "loss : 0.05708688497543335 / [44864/60000]\n",
      "loss : 0.04190009459853172 / [51264/60000]\n",
      "loss : 0.04412662610411644 / [57664/60000]\n",
      "Test ERR >> Acc : 0.9784666666666667 / Avg Loss : 0.06689843095819208\n",
      "Done, Accuracy is : 0.9784666666666667\n"
     ]
    }
   ],
   "source": [
    "model = NeuralNetwork().to(device)\n",
    "\n",
    "learning_rate = 1e-2\n",
    "epoches = 4\n",
    "optimizer = torch.optim.SGD(model.parameters(),lr=learning_rate)\n",
    "loss_fn = nn.CrossEntropyLoss()\n",
    "\n",
    "def train_loop(train_dataloader,model,loss_fn,optim):\n",
    "    model.train()\n",
    "    for batch, (X,y) in enumerate(train_dataloader):\n",
    "        y=y.to(torch.int64)\n",
    "        pred = model(X)\n",
    "        loss = loss_fn(pred,y)\n",
    "\n",
    "        loss.backward()\n",
    "        optim.step()\n",
    "        optim.zero_grad()\n",
    "\n",
    "        if (batch % 100 == 0):\n",
    "            loss = loss.item()\n",
    "            current = (batch+1)*len(X)\n",
    "            total_size = len(train_dataloader.dataset)\n",
    "            print(\"loss : {} / [{}/{}]\".format(loss,current,total_size))\n",
    "\n",
    "def test_loop(test_dataloader,model,loss_fn):\n",
    "    model.eval()\n",
    "    test_loss,correct = 0,0\n",
    "\n",
    "    with torch.no_grad():\n",
    "        for X,y in test_dataloader:\n",
    "            y=y.to(torch.int64)\n",
    "            pred = model(X)\n",
    "            test_loss += loss_fn(pred,y).item()\n",
    "            correct += (pred.argmax(1) == y).type(torch.float).sum().item()\n",
    "    \n",
    "    size = len(test_dataloader.dataset)\n",
    "    num_batches = len(test_dataloader)\n",
    "    correct /= size # acuuracy\n",
    "    test_loss /= num_batches # avg loss in each batch\n",
    "\n",
    "    print(\"Test ERR >> Acc : {} / Avg Loss : {}\".format(correct,test_loss))\n",
    "    return correct\n",
    "\n",
    "finalAcc = -100\n",
    "\n",
    "for i in range(epoches):\n",
    "    print(\"EPOCH {} -----------------------------\".format(i+1))\n",
    "    train_loop(train_dataloader,model,loss_fn,optimizer)\n",
    "    acc = test_loop(test_dataloader,model,loss_fn)\n",
    "    finalAcc = acc\n",
    "\n",
    "print(\"Done, Accuracy is : {}\".format(finalAcc))\n"
   ]
  },
  {
   "attachments": {},
   "cell_type": "markdown",
   "metadata": {},
   "source": [
    "after around **18m**(using cuda) resulted with accuracy **98%**<br>"
   ]
  }
 ],
 "metadata": {
  "kernelspec": {
   "display_name": "workshop",
   "language": "python",
   "name": "python3"
  },
  "language_info": {
   "codemirror_mode": {
    "name": "ipython",
    "version": 3
   },
   "file_extension": ".py",
   "mimetype": "text/x-python",
   "name": "python",
   "nbconvert_exporter": "python",
   "pygments_lexer": "ipython3",
   "version": "3.9.16"
  },
  "orig_nbformat": 4
 },
 "nbformat": 4,
 "nbformat_minor": 2
}
