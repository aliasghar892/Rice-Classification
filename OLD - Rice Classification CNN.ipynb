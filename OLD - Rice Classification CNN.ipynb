{
 "cells": [
  {
   "attachments": {},
   "cell_type": "markdown",
   "metadata": {},
   "source": [
    "# Rice Classification with CNN (using CUDA - this is the old version , the new version has a better approach and accuracy)"
   ]
  },
  {
   "attachments": {},
   "cell_type": "markdown",
   "metadata": {},
   "source": [
    "dataset contains 75000 images from 5 diffrent type of rices :\n",
    "\n",
    "1. Arborio\n",
    "2. Basmati\n",
    "3. Ipsala\n",
    "4. Jasmine\n",
    "5. Karacadag\n",
    "\n",
    "15000 images for each class of rice\n",
    "\n",
    "dataset : https://www.kaggle.com/datasets/muratkokludataset/rice-image-dataset"
   ]
  },
  {
   "attachments": {},
   "cell_type": "markdown",
   "metadata": {},
   "source": [
    "### choosing device"
   ]
  },
  {
   "cell_type": "code",
   "execution_count": 1,
   "metadata": {},
   "outputs": [
    {
     "name": "stdout",
     "output_type": "stream",
     "text": [
      "Using cuda device\n"
     ]
    }
   ],
   "source": [
    "import torch\n",
    "\n",
    "device = (\n",
    "    \"cuda\"\n",
    "    if torch.cuda.is_available()\n",
    "    else \"cpu\"\n",
    ")\n",
    "\n",
    "print(f\"Using {device} device\")"
   ]
  },
  {
   "attachments": {},
   "cell_type": "markdown",
   "metadata": {},
   "source": [
    "### creating dataset class\n"
   ]
  },
  {
   "cell_type": "code",
   "execution_count": 2,
   "metadata": {},
   "outputs": [],
   "source": [
    "from torch.utils.data import Dataset\n",
    "import os\n",
    "from torchvision.io import read_image\n",
    "from math import floor\n",
    "from torchvision.transforms import Grayscale,Resize\n",
    "\n",
    "\n",
    "labelsDict = {\n",
    "    0: \"Arborio\",\n",
    "    1: \"Basmati\",\n",
    "    2: \"Ipsala\",\n",
    "    3: \"Jasmine\",\n",
    "    4: \"Karacadag\"\n",
    "}\n",
    "\n",
    "class Custom_Dataset(Dataset):\n",
    "    def __init__(self,labels ,img_dir,transform=None):\n",
    "        self.labels = labels\n",
    "        self.img_dir = img_dir\n",
    "        self.transform = transform\n",
    "\n",
    "    def __len__(self):\n",
    "        return len(self.labels)\n",
    "    \n",
    "    def __getitem__(self, idx):\n",
    "        # label = labelsDict[floor(idx/15000)]\n",
    "        label = self.labels[idx]\n",
    "        label = label.to(device)\n",
    "        img_name = labelsDict[int(label)]+\" (\" + str(idx -(15000*floor(idx/15000))+1) +\").jpg\"\n",
    "        img_path = os.path.join(os.getcwd(),self.img_dir, img_name)\n",
    "        image = read_image(img_path)\n",
    "        # label = int(label.item())\n",
    "        # image = Grayscale()(image) #remove 3 image channels\n",
    "        image = Resize(size=(150,150),antialias=True)(image)\n",
    "        # image = image.squeeze()\n",
    "        image = image.float()\n",
    "        image = image.to(device)\n",
    "        if(self.transform):\n",
    "            image = self.transform(image)\n",
    "        return image, label\n",
    "    \n"
   ]
  },
  {
   "attachments": {},
   "cell_type": "markdown",
   "metadata": {},
   "source": [
    "### creating our dataset"
   ]
  },
  {
   "cell_type": "code",
   "execution_count": 3,
   "metadata": {},
   "outputs": [],
   "source": [
    "labels = torch.zeros(75000)\n",
    "labels[15000:30000] = 1\n",
    "labels[30000:45000] = 2\n",
    "labels[45000:60000] = 3\n",
    "labels[60000:75000] = 4\n",
    "\n",
    "dataset = Custom_Dataset(labels,\"Rice_Image_Dataset\")"
   ]
  },
  {
   "attachments": {},
   "cell_type": "markdown",
   "metadata": {},
   "source": [
    "### shuffeling and creating train / test dataset"
   ]
  },
  {
   "cell_type": "code",
   "execution_count": 4,
   "metadata": {},
   "outputs": [],
   "source": [
    "from torch.utils.data import Subset\n",
    "import numpy as np\n",
    "\n",
    "N = len(dataset)\n",
    "\n",
    "indices = np.arange(N)\n",
    "indices = np.random.permutation(indices)\n",
    "\n",
    "slice = int(0.8*N)\n",
    "\n",
    "train_indices = indices[:slice]\n",
    "test_indices = indices[slice:]\n",
    "\n",
    "train_dataset = Subset(dataset,train_indices)\n",
    "test_dataset = Subset(dataset,test_indices)\n"
   ]
  },
  {
   "attachments": {},
   "cell_type": "markdown",
   "metadata": {},
   "source": [
    "### Loading Data"
   ]
  },
  {
   "cell_type": "code",
   "execution_count": 5,
   "metadata": {},
   "outputs": [],
   "source": [
    "from torch.utils.data import DataLoader\n",
    "\n",
    "train_dataloader = DataLoader(train_dataset,batch_size=64,shuffle=True)\n",
    "test_dataloader = DataLoader(test_dataset,batch_size=64,shuffle=True)\n"
   ]
  },
  {
   "attachments": {},
   "cell_type": "markdown",
   "metadata": {},
   "source": [
    "### creating model"
   ]
  },
  {
   "cell_type": "code",
   "execution_count": 40,
   "metadata": {},
   "outputs": [],
   "source": [
    "from torch import nn\n",
    "\n",
    "class NeuralNetwork(nn.Module):\n",
    "    def __init__(self):\n",
    "        super().__init__()\n",
    "        self.seq = nn.Sequential(\n",
    "            # shape is 150 x 150 , 3 channels\n",
    "            nn.Conv2d(in_channels=3,out_channels=10,kernel_size=(11,11)), # 11-1=10 will be reduced from pixels shape is 140x140\n",
    "            nn.ReLU(),\n",
    "            nn.Dropout(0.2),\n",
    "\n",
    "            nn.Conv2d(in_channels=10,out_channels=10,kernel_size=(11,11)), # 11-1=10 will be reduced from pixels shape is 130x130\n",
    "            nn.ReLU(),\n",
    "            nn.Dropout(0.2),\n",
    "\n",
    "            nn.Conv2d(in_channels=10,out_channels=10,kernel_size=(11,11)), # 11-1=10 will be reduced from pixels shape is 120x120\n",
    "            nn.ReLU(),\n",
    "            nn.MaxPool2d(kernel_size=(12,12)), # shape /2 then shape is 10x10\n",
    "\n",
    "            nn.Flatten(), # shape was 10(channels) 20 20 now its 10*10*10\n",
    "            nn.Linear(1000,512),\n",
    "            nn.ReLU(),\n",
    "            nn.Dropout(0.2),\n",
    "            nn.Linear(512,512),\n",
    "            nn.ReLU(),\n",
    "            nn.Dropout(0.2),\n",
    "            nn.Linear(512,5)\n",
    "        ) \n",
    "        \n",
    "    def forward(self,X):\n",
    "        logits = self.seq(X)\n",
    "        return logits"
   ]
  },
  {
   "attachments": {},
   "cell_type": "markdown",
   "metadata": {},
   "source": [
    "### learning"
   ]
  },
  {
   "cell_type": "code",
   "execution_count": 41,
   "metadata": {},
   "outputs": [
    {
     "name": "stdout",
     "output_type": "stream",
     "text": [
      "EPOCH 1 -----------------------------\n",
      "loss : 2.6992545127868652 / [64/60000]\n",
      "loss : 0.6482333540916443 / [6464/60000]\n",
      "loss : 0.34981662034988403 / [12864/60000]\n",
      "loss : 0.18721738457679749 / [19264/60000]\n",
      "loss : 0.1719854772090912 / [25664/60000]\n",
      "loss : 0.2527434229850769 / [32064/60000]\n",
      "loss : 0.2708818316459656 / [38464/60000]\n",
      "loss : 0.06755897402763367 / [44864/60000]\n",
      "loss : 0.09046316146850586 / [51264/60000]\n",
      "loss : 0.12092944234609604 / [57664/60000]\n",
      "Test ERR >> Acc : 0.9422666666666667 / Avg Loss : 0.1616611862119208\n",
      "EPOCH 2 -----------------------------\n",
      "loss : 0.16581037640571594 / [64/60000]\n",
      "loss : 0.18272382020950317 / [6464/60000]\n",
      "loss : 0.06095385178923607 / [12864/60000]\n",
      "loss : 0.038240835070610046 / [19264/60000]\n",
      "loss : 0.0797572210431099 / [25664/60000]\n",
      "loss : 0.20200024545192719 / [32064/60000]\n",
      "loss : 0.09259215742349625 / [38464/60000]\n",
      "loss : 0.14818055927753448 / [44864/60000]\n",
      "loss : 0.07410043478012085 / [51264/60000]\n",
      "loss : 0.16554561257362366 / [57664/60000]\n",
      "Test ERR >> Acc : 0.9768 / Avg Loss : 0.07273752188032612\n",
      "EPOCH 3 -----------------------------\n",
      "loss : 0.06011025607585907 / [64/60000]\n",
      "loss : 0.10445485264062881 / [6464/60000]\n",
      "loss : 0.15621711313724518 / [12864/60000]\n",
      "loss : 0.127548485994339 / [19264/60000]\n",
      "loss : 0.13184496760368347 / [25664/60000]\n",
      "loss : 0.08132974058389664 / [32064/60000]\n",
      "loss : 0.043785110116004944 / [38464/60000]\n",
      "loss : 0.08192900568246841 / [44864/60000]\n",
      "loss : 0.08455020189285278 / [51264/60000]\n",
      "loss : 0.10460527241230011 / [57664/60000]\n",
      "Test ERR >> Acc : 0.9719333333333333 / Avg Loss : 0.0917307602598312\n",
      "EPOCH 4 -----------------------------\n",
      "loss : 0.14258871972560883 / [64/60000]\n",
      "loss : 0.08497738093137741 / [6464/60000]\n",
      "loss : 0.07569640129804611 / [12864/60000]\n",
      "loss : 0.09258049726486206 / [19264/60000]\n",
      "loss : 0.08980464935302734 / [25664/60000]\n",
      "loss : 0.14867064356803894 / [32064/60000]\n",
      "loss : 0.021466083824634552 / [38464/60000]\n",
      "loss : 0.013832952827215195 / [44864/60000]\n",
      "loss : 0.09018581360578537 / [51264/60000]\n",
      "loss : 0.017484715208411217 / [57664/60000]\n",
      "Test ERR >> Acc : 0.9715333333333334 / Avg Loss : 0.09250681619060801\n",
      "EPOCH 5 -----------------------------\n",
      "loss : 0.059300776571035385 / [64/60000]\n",
      "loss : 0.1455373466014862 / [6464/60000]\n",
      "loss : 0.17494378983974457 / [12864/60000]\n",
      "loss : 0.054883137345314026 / [19264/60000]\n",
      "loss : 0.04792048782110214 / [25664/60000]\n",
      "loss : 0.15538644790649414 / [32064/60000]\n",
      "loss : 0.048979680985212326 / [38464/60000]\n",
      "loss : 0.03800388053059578 / [44864/60000]\n",
      "loss : 0.12420181930065155 / [51264/60000]\n",
      "loss : 0.10444077104330063 / [57664/60000]\n",
      "Test ERR >> Acc : 0.9864 / Avg Loss : 0.04288536830547642\n",
      "Done, Accuracy is : 0.9864\n"
     ]
    }
   ],
   "source": [
    "model = NeuralNetwork().to(device)\n",
    "\n",
    "learning_rate = 0.001\n",
    "epoches = 5\n",
    "optimizer = torch.optim.SGD(model.parameters(),lr=learning_rate)\n",
    "loss_fn = nn.CrossEntropyLoss()\n",
    "\n",
    "def train_loop(train_dataloader,model,loss_fn,optim):\n",
    "    model.train()\n",
    "    for batch, (X,y) in enumerate(train_dataloader):\n",
    "        y=y.to(torch.int64)\n",
    "        pred = model(X)\n",
    "        loss = loss_fn(pred,y)\n",
    "\n",
    "        loss.backward()\n",
    "        optim.step()\n",
    "        optim.zero_grad()\n",
    "\n",
    "        if (batch % 100 == 0):\n",
    "            loss = loss.item()\n",
    "            current = (batch+1)*len(X)\n",
    "            total_size = len(train_dataloader.dataset)\n",
    "            print(\"loss : {} / [{}/{}]\".format(loss,current,total_size))\n",
    "\n",
    "def test_loop(test_dataloader,model,loss_fn):\n",
    "    model.eval()\n",
    "    test_loss,correct = 0,0\n",
    "\n",
    "    with torch.no_grad():\n",
    "        for X,y in test_dataloader:\n",
    "            y=y.to(torch.int64)\n",
    "            pred = model(X)\n",
    "            test_loss += loss_fn(pred,y).item()\n",
    "            correct += (pred.argmax(1) == y).type(torch.float).sum().item()\n",
    "    \n",
    "    size = len(test_dataloader.dataset)\n",
    "    num_batches = len(test_dataloader)\n",
    "    correct /= size # acuuracy\n",
    "    test_loss /= num_batches # avg loss in each batch\n",
    "\n",
    "    print(\"Test ERR >> Acc : {} / Avg Loss : {}\".format(correct,test_loss))\n",
    "    return correct\n",
    "\n",
    "finalAcc = -100\n",
    "\n",
    "for i in range(epoches):\n",
    "    print(\"EPOCH {} -----------------------------\".format(i+1))\n",
    "    train_loop(train_dataloader,model,loss_fn,optimizer)\n",
    "    acc = test_loop(test_dataloader,model,loss_fn)\n",
    "    finalAcc = acc\n",
    "\n",
    "print(\"Done, Accuracy is : {}\".format(finalAcc))\n"
   ]
  },
  {
   "attachments": {},
   "cell_type": "markdown",
   "metadata": {},
   "source": [
    "after around **20m**(using cuda) resulted with accuracy **98.7%**<br>"
   ]
  }
 ],
 "metadata": {
  "kernelspec": {
   "display_name": "workshop",
   "language": "python",
   "name": "python3"
  },
  "language_info": {
   "codemirror_mode": {
    "name": "ipython",
    "version": 3
   },
   "file_extension": ".py",
   "mimetype": "text/x-python",
   "name": "python",
   "nbconvert_exporter": "python",
   "pygments_lexer": "ipython3",
   "version": "3.9.16"
  },
  "orig_nbformat": 4
 },
 "nbformat": 4,
 "nbformat_minor": 2
}
